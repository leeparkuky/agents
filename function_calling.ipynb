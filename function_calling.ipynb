{
 "cells": [
  {
   "cell_type": "code",
   "execution_count": 1,
   "metadata": {},
   "outputs": [],
   "source": [
    "from datasets import load_dataset\n",
    "from textbook_transformers import *"
   ]
  },
  {
   "cell_type": "code",
   "execution_count": 11,
   "metadata": {},
   "outputs": [],
   "source": [
    "ds = load_dataset(\"gogo8232/fineweb-CC-MAIN-2024-10-insurance-700k-dedup\", cache_dir = \"/root/LLM_Playground/.huggingface_cache/datasets\", split = \"train\")"
   ]
  },
  {
   "cell_type": "code",
   "execution_count": 3,
   "metadata": {},
   "outputs": [],
   "source": [
    "import os\n",
    "\n",
    "from groq import Groq\n",
    "\n",
    "client_1 = Groq(\n",
    "    api_key=\"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\",\n",
    ")\n",
    "\n",
    "client_2 = Groq(\n",
    "    api_key = \"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\"\n",
    ")\n",
    "\n",
    "client_3 = Groq(\n",
    "    api_key= \"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\"\n",
    ")"
   ]
  },
  {
   "cell_type": "code",
   "execution_count": 4,
   "metadata": {},
   "outputs": [
    {
     "name": "stderr",
     "output_type": "stream",
     "text": [
      "Special tokens have been added in the vocabulary, make sure the associated word embeddings are fine-tuned or trained.\n"
     ]
    }
   ],
   "source": [
    "from transformers import AutoTokenizer\n",
    "\n",
    "tokenizer = AutoTokenizer.from_pretrained(\"microsoft/Phi-3-mini-4k-instruct\")\n",
    "\n",
    "def truncate(examples):\n",
    "    if examples['token_count'] > 4096:\n",
    "        tokenized = tokenizer.encode(examples['text'], max_length= 4096, truncation=True, add_special_tokens= False)\n",
    "        examples['text'] = tokenizer.decode(tokenized)\n",
    "    return examples"
   ]
  },
  {
   "cell_type": "code",
   "execution_count": 12,
   "metadata": {},
   "outputs": [],
   "source": [
    "ds = ds.select(range(400, ds.num_rows))\n",
    "with open('outputs.json') as f:\n",
    "    outputs = json.load(f)"
   ]
  },
  {
   "cell_type": "code",
   "execution_count": 13,
   "metadata": {},
   "outputs": [
    {
     "data": {
      "text/plain": [
       "400"
      ]
     },
     "execution_count": 13,
     "metadata": {},
     "output_type": "execute_result"
    }
   ],
   "source": [
    "len(outputs)"
   ]
  },
  {
   "cell_type": "code",
   "execution_count": 14,
   "metadata": {},
   "outputs": [
    {
     "data": {
      "application/vnd.jupyter.widget-view+json": {
       "model_id": "c7c14eeb54334d34a2157beb9dcaf546",
       "version_major": 2,
       "version_minor": 0
      },
      "text/plain": [
       "  0%|          | 0/745735 [00:00<?, ?it/s]"
      ]
     },
     "metadata": {},
     "output_type": "display_data"
    }
   ],
   "source": [
    "from tqdm.auto import tqdm\n",
    "import time\n",
    "# outputs = []\n",
    "for example in tqdm(ds, total = ds.num_rows):\n",
    "    example = truncate(example)\n",
    "    document = example['text']\n",
    "    client = random.choice([client_1, client_2, client_3])\n",
    "    suggestions = get_suggestions(document, client)\n",
    "    client = random.choice([client_1, client_2, client_3])\n",
    "    generator_kwargs = synthetic_textbook_function_calling(document, suggestions, client)\n",
    "    transformation_prompt, generator_name = retrieve_prompt(document, **generator_kwargs)\n",
    "    example.update({\"chosen_transformation\": generator_name})\n",
    "    client = random.choice([client_1, client_2, client_3])\n",
    "    model = random.choice([\"llama3-70b-8192\", \"llama3-groq-70b-8192-tool-use-preview\"])\n",
    "    chat_completion = client.chat.completions.create(\n",
    "        messages= transformation_prompt, \n",
    "        model=model,\n",
    "        temperature = .7,\n",
    "        top_p = .95,\n",
    "    )\n",
    "    transformed = chat_completion.choices[0].message.content\n",
    "    # if random.random() > .9:\n",
    "    #     try:\n",
    "    #         client = random.choice([client_1, client_2])\n",
    "    #         chat_completion = client.chat.completions.create(\n",
    "    #             messages= transformation_prompt + [{\"role\": \"system\", \"content\": transformed}, {\"role\": \"user\", \"content\": \"Make it at least 2x longer and comprehensive\"}], \n",
    "    #             model=\"mixtral-8x7b-32768\",\n",
    "    #             max_tokens= 32768,\n",
    "    #             temperature = .7,\n",
    "    #             top_p = .95\n",
    "    #         )\n",
    "    #         example.update({\"transformed_text\": chat_completion.choices[0].message.content})\n",
    "    #     except:\n",
    "    #         example.update({\"transformed_text\": transformed})\n",
    "    # else:\n",
    "    example.update({\"transformed_text\": transformed})\n",
    "    outputs.append(example)\n",
    "    # if len(outputs) % 4 == 0:\n",
    "        # time.sleep(3)\n",
    "    if len(outputs) % 10 == 0:\n",
    "        with open(\"outputs.json\", \"w\") as f:\n",
    "            json.dump(outputs, f)\n",
    "        # time.sleep(5)"
   ]
  },
  {
   "cell_type": "code",
   "execution_count": null,
   "metadata": {},
   "outputs": [],
   "source": []
  }
 ],
 "metadata": {
  "kernelspec": {
   "display_name": ".venv",
   "language": "python",
   "name": "python3"
  },
  "language_info": {
   "codemirror_mode": {
    "name": "ipython",
    "version": 3
   },
   "file_extension": ".py",
   "mimetype": "text/x-python",
   "name": "python",
   "nbconvert_exporter": "python",
   "pygments_lexer": "ipython3",
   "version": "3.10.12"
  }
 },
 "nbformat": 4,
 "nbformat_minor": 2
}
